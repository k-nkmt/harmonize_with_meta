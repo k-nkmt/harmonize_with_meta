{
 "cells": [
  {
   "cell_type": "markdown",
   "metadata": {},
   "source": [
    "# YAML関連プログラム 実行例\n",
    "\n",
    "今回検討したyamlの仕様によるプログラムの実行例です。  \n",
    "主に以下のような動作の関数を用意しています。  \n",
    "\n",
    "- 符号表間のマッピング情報のyamlファイルをまとめて１つのjsonにする\n",
    "- 変数間のマッピング情報からプログラムを生成する\n",
    "- データフレームとテキストからyamlファイルを作成する\n",
    "- yamlファイルをデータフレームに変換する"
   ]
  },
  {
   "cell_type": "code",
   "execution_count": 1,
   "metadata": {},
   "outputs": [],
   "source": [
    "from newmeta.lib.util_yaml import * \n",
    "import pandas as pd\n",
    "import yaml"
   ]
  },
  {
   "cell_type": "code",
   "execution_count": 2,
   "metadata": {},
   "outputs": [],
   "source": [
    "# 符号表間のマッピング情報のyamlファイルをまとめて１つのjsonにする\n",
    "create_codebook_file('newmeta/data/code_mapping', 'newmeta/sample/codebook.json')"
   ]
  },
  {
   "cell_type": "code",
   "execution_count": 3,
   "metadata": {},
   "outputs": [],
   "source": [
    "# 変数間のマッピング情報からプログラムを生成する\n",
    "\n",
    "with open('newmeta/data/column.yaml', 'r', encoding='utf-8') as file:\n",
    "    mapping = yaml.safe_load(file)\n",
    "\n",
    "render_tpl(mapping, 'newmeta/sample')"
   ]
  },
  {
   "cell_type": "code",
   "execution_count": null,
   "metadata": {},
   "outputs": [
    {
     "name": "stdout",
     "output_type": "stream",
     "text": [
      "title: Population Census of Japan to IPUMS\n",
      "entries: ['2000', '2005', '2010', '2015']\n",
      "notes: \"\"\n",
      "map: \n",
      "  age:\n",
      "    label: Age\n",
      "    type: dict\n",
      "    dict: age2\n",
      "    vars: [21: age, 20: age, 20: age, 19: age]\n",
      "\n",
      "  inctype:\n",
      "    label: Type of Household Income\n",
      "    type: copy\n",
      "    vars: [15: income, null, null, null]\n",
      "\n",
      "  gender:\n",
      "    label: Gender\n",
      "    type: assign\n",
      "    values: ['2000', '2005', '2010', '2015']\n",
      "\n",
      "  employment:\n",
      "    label: Employment Status\n",
      "    type: skip\n"
     ]
    }
   ],
   "source": [
    "# データフレームとテキストから変数間のマッピング情報のyamlファイルを作成\n",
    "# dict以降の変数名はentry_id, entry_valとする\n",
    "\n",
    "df = pd.DataFrame({\n",
    "    'var': ['age', 'inctype', 'gender', 'employment'],\n",
    "    'label': ['Age', 'Type of Household Income', 'Gender', 'Employment Status'],\n",
    "    'type': ['dict', 'copy', 'assign', 'skip'],\n",
    "    'dict': ['age2', None, None, None],\n",
    "    '2000_id': [21, 15, None, None],\n",
    "    '2000_val': ['age', 'income', '2000', None],\n",
    "    '2005_id': [20, None, None, None],\n",
    "    '2005_val': ['age', None, '2005', None],\n",
    "    '2010_id': [20, None, None, None],\n",
    "    '2010_val': ['age', None, '2010', None],\n",
    "    '2015_id': [19, None, None, None],\n",
    "    '2015_val': ['age', None, '2015', None]\n",
    "})\n",
    "\n",
    "vmap = generate_vmap_yaml(\n",
    "    title='Population Census of Japan to IPUMS',\n",
    "    entries=[\"2000\", \"2005\", \"2010\", \"2015\"],\n",
    "    notes='',\n",
    "    map_str=create_vmap_elements(df)\n",
    "    )\n",
    "\n",
    "print(vmap)"
   ]
  },
  {
   "cell_type": "code",
   "execution_count": 5,
   "metadata": {},
   "outputs": [
    {
     "name": "stdout",
     "output_type": "stream",
     "text": [
      "          var                     label    type  dict  2000_id 2000_val  \\\n",
      "0         age                       Age    dict  age2     21.0      age   \n",
      "1     inctype  Type of Household Income    copy  None     15.0   income   \n",
      "2      gender                    Gender  assign  None      NaN     2000   \n",
      "3  employment         Employment Status    skip  None      NaN     None   \n",
      "\n",
      "   2005_id 2005_val  2010_id 2010_val  2015_id 2015_val  \n",
      "0     20.0      age     20.0      age     19.0      age  \n",
      "1      NaN     None      NaN     None      NaN     None  \n",
      "2      NaN     2005      NaN     2010      NaN     2015  \n",
      "3      NaN     None      NaN     None      NaN     None  \n"
     ]
    }
   ],
   "source": [
    "# 変数間のマッピング情報のyamlファイルからデータフレームを作成\n",
    "\n",
    "vmap_df = create_vmapdf(vmap)\n",
    "print(vmap_df)"
   ]
  },
  {
   "cell_type": "code",
   "execution_count": null,
   "metadata": {},
   "outputs": [
    {
     "name": "stdout",
     "output_type": "stream",
     "text": [
      "name: age\n",
      "from: Population Census of Japan\n",
      "to: IPUMS\n",
      "notes: \"AGE is a continuous variable. For samples that report age in 5-year groups, such as Japan, IPUMS codes AGE to the mid-point of the interval. In the Japanese censuses, AGE is top-coded at 85+ in 2000 and 2005 and 90+ in 2010 and 2015.\"\n",
      "entries:\n",
      "  \"2000\":\n",
      "    \"1\": \" 2\" # 0 to 4: 2 years\n",
      "    \"2\": \" 7\" # 5 to 9: 7\n",
      "    \"3\": \"12\" # 10 to 14: 12\n",
      "  \"2005\":\n",
      "    \"1\": \" 2\" # 0 to 4: 2 years\n",
      "    \"2\": \" 7\" # 5 to 9: 7\n",
      "    \"3\": \"12\" # 10 to 14: 12\n",
      "  \"2010\":\n",
      "    \"1\": \" 2\"\n",
      "    \"2\": \" 7\"\n",
      "    \"3\": \"12\"\n"
     ]
    }
   ],
   "source": [
    "# データフレームとテキストから符号間のマッピング情報のyamlファイルを作成\n",
    "# code以降の変数名はentry_code, entry_com1, entry_com2とする\n",
    "\n",
    "df = pd.DataFrame({\n",
    "    'code': [' 2', ' 7', '12'],\n",
    "    '2000_code': ['1', '2', '3'],\n",
    "    '2000_com1': ['0 to 4', '5 to 9', '10 to 14'],\n",
    "    '2000_com2': ['2 years', '7', '12'],\n",
    "    '2005_code': ['1', '2', '3'],\n",
    "    '2005_com1': ['0 to 4: 2 years', '5 to 9: 7', '10 to 14: 12'],\n",
    "    '2010_code': ['1', '2', '3']\n",
    "}, dtype=str)\n",
    "\n",
    "cmap = generate_cmap_yaml(\n",
    "name='age', \n",
    "from_='Population Census of Japan', \n",
    "to='IPUMS', \n",
    "notes='AGE is a continuous variable. For samples that report age in 5-year groups, such as Japan, IPUMS codes AGE to the mid-point of the interval. In the Japanese censuses, AGE is top-coded at 85+ in 2000 and 2005 and 90+ in 2010 and 2015.',\n",
    "entries=create_cmap_elements(df)\n",
    ")\n",
    "\n",
    "print(cmap)"
   ]
  },
  {
   "cell_type": "code",
   "execution_count": 7,
   "metadata": {},
   "outputs": [
    {
     "name": "stdout",
     "output_type": "stream",
     "text": [
      "  code 2000_code 2000_com1 2000_com2 2005_code 2005_com1 2005_com2 2010_code  \\\n",
      "0    2         1    0 to 4   2 years         1    0 to 4   2 years         1   \n",
      "1    7         2    5 to 9         7         2    5 to 9         7         2   \n",
      "2   12         3  10 to 14        12         3  10 to 14        12         3   \n",
      "\n",
      "  2010_com1 2010_com2  \n",
      "0                      \n",
      "1                      \n",
      "2                      \n"
     ]
    }
   ],
   "source": [
    "# 符号のマッピング情報のyamlファイルからデータフレームを作成\n",
    "\n",
    "cmap_df = create_cmapdf(cmap)\n",
    "print(cmap_df)"
   ]
  }
 ],
 "metadata": {
  "kernelspec": {
   "display_name": "dev",
   "language": "python",
   "name": "python3"
  },
  "language_info": {
   "codemirror_mode": {
    "name": "ipython",
    "version": 3
   },
   "file_extension": ".py",
   "mimetype": "text/x-python",
   "name": "python",
   "nbconvert_exporter": "python",
   "pygments_lexer": "ipython3",
   "version": "3.10.14"
  }
 },
 "nbformat": 4,
 "nbformat_minor": 2
}
